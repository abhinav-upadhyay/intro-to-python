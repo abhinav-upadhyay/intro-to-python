{
 "cells": [
  {
   "cell_type": "markdown",
   "metadata": {},
   "source": [
    "# Conditions in Python\n",
    "\n",
    "Python has a very natural looking syntax for conditionals and boolean operations"
   ]
  },
  {
   "cell_type": "markdown",
   "metadata": {},
   "source": [
    "## if statment in Python\n",
    "\n",
    "```if True:\n",
    "        do something\n",
    "        ```"
   ]
  },
  {
   "cell_type": "code",
   "execution_count": 12,
   "metadata": {
    "collapsed": false
   },
   "outputs": [],
   "source": [
    "import random\n",
    "toss = random.random() # returns a random value between 0 and 1\n",
    "if toss > 0.5: \n",
    "    print 'I won'\n"
   ]
  },
  {
   "cell_type": "markdown",
   "metadata": {},
   "source": [
    "## if else statement"
   ]
  },
  {
   "cell_type": "code",
   "execution_count": 11,
   "metadata": {
    "collapsed": false
   },
   "outputs": [
    {
     "name": "stdout",
     "output_type": "stream",
     "text": [
      "I won\n"
     ]
    }
   ],
   "source": [
    "toss = random.random()\n",
    "if toss > 0.5:\n",
    "    print 'I won'\n",
    "else:\n",
    "    print 'You won'"
   ]
  },
  {
   "cell_type": "markdown",
   "metadata": {},
   "source": [
    "## if - else if Statment"
   ]
  },
  {
   "cell_type": "code",
   "execution_count": 14,
   "metadata": {
    "collapsed": false
   },
   "outputs": [
    {
     "name": "stdout",
     "output_type": "stream",
     "text": [
      "orange\n"
     ]
    }
   ],
   "source": [
    "fruits = ['apple', 'orange', 'banana', 'water melon']\n",
    "fruit_index = random.randint(0, 3) # Get a random number between 0 and length of the fruit list\n",
    "fruit = fruits[fruit_index] # use fruit_index as an index to randomly select a fruit\n",
    "if fruit == 'apple':\n",
    "    print 'red'\n",
    "elif fruit == 'orange':\n",
    "    print 'orange'\n",
    "elif fruit == 'banana':\n",
    "    print 'yellow'\n",
    "    "
   ]
  },
  {
   "cell_type": "code",
   "execution_count": null,
   "metadata": {
    "collapsed": true
   },
   "outputs": [],
   "source": []
  }
 ],
 "metadata": {
  "kernelspec": {
   "display_name": "Python 2",
   "language": "python",
   "name": "python2"
  },
  "language_info": {
   "codemirror_mode": {
    "name": "ipython",
    "version": 2
   },
   "file_extension": ".py",
   "mimetype": "text/x-python",
   "name": "python",
   "nbconvert_exporter": "python",
   "pygments_lexer": "ipython2",
   "version": "2.7.11"
  }
 },
 "nbformat": 4,
 "nbformat_minor": 0
}
