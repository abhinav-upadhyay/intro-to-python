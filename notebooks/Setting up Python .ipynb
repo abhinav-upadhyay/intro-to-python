{
 "cells": [
  {
   "cell_type": "markdown",
   "metadata": {},
   "source": [
    "# What is Python?\n",
    "\n",
    "[Python](http://python.org) is a high level, dynamically typed and object oriented language. It was invented in 1989 by [Guido van Rossum](http://en.wikipedia.org/wiki/Guido_van_Rossum)"
   ]
  },
  {
   "cell_type": "markdown",
   "metadata": {},
   "source": [
    "## Features: ##\n",
    "* Object Oriented\n",
    "* Dynamically Typed\n",
    "* Interactive\n",
    "* Interpreted and byte compiled\n",
    "* Batteries included"
   ]
  },
  {
   "cell_type": "markdown",
   "metadata": {},
   "source": [
    "## Versions of Python ##\n",
    "* Python 2.7.11 _(Last supported release for the 2.x release of Python)_\n",
    "* Python 3.5\n",
    "\n",
    "This tutorial covers Python 2.7. "
   ]
  },
  {
   "cell_type": "markdown",
   "metadata": {},
   "source": [
    "## Setup##\n",
    "\n",
    "### Installing Python###\n",
    "\n",
    "* #### Linux ####\n",
    "    - Most of the popular Linux distros come with Python pre-installed.\n",
    "    - Try running\n",
    "    ```python --version```\n",
    "    at the terminal and make sure the output is `python 2.7.11` or similar.\n",
    "    - If you don't have python installed on your system, download the tar ball from [here](http://www.python.org/ftp/python/2.7.11/Python-2.7.11.tgz) and run following commands:\n",
    "        - ```tar -xvzf Python-2.7.5.tgz```\n",
    "        - ``` cd Python-2.7.5```\n",
    "        - ```./configure```\n",
    "        - ```make```\n",
    "        - ```sudo make install```\n",
    "\n",
    "* #### Windows ####\n",
    "    - Download the apropriate installer for windows from [here](https://www.python.org/downloads/windows/) and run it.\n",
    "\n",
    "### Installing 3rd Party Python Packages###\n",
    "\n",
    "We first need to install ```pip``` which is the preferred tool for installing 3rd party Python packages.\n",
    "\n",
    "* #### Installing pip on Linux####\n",
    "    - On Debian/Ubuntu run: ```sudo apt-get install python-pip```\n",
    "    - On Fedora: ```sudo yum install python-pip```\n",
    "    - For other distros you may try the following: \n",
    "\n",
    "    ```\n",
    "    curl -O http://python-distribute.org/distribute_setup.py\n",
    "    python distribute_setup.py\n",
    "    curl -O https://raw.github.com/pypa/pip/master/contrib/get-pip.py\n",
    "    python get-pip.py\n",
    "    ```\n",
    "\n",
    "* #### Installing pip on Windows####\n",
    "    - Follow the instructions given [here](http://stackoverflow.com/a/12476379/348637)\n",
    "\n",
    "### Installing Jupyter###\n",
    "\n",
    "We will be using Jupyter Notebooks during the workshops and to follow along you should have it installed.\n",
    "\n",
    "To install Jupyter on your system, run the following command:\n",
    "\n",
    "```pip install jupyter```"
   ]
  },
  {
   "cell_type": "markdown",
   "metadata": {},
   "source": [
    "# Starting Python Shell #\n",
    "\n",
    "* ### Linux/Mac OS X ###\n",
    "     Open a terminal and run ```python```\n",
    "\n",
    "* ### Windows ###\n",
    "    - Open cmd and run ```python.exe```\n",
    "\n",
    "Running the above command will open up the interactive python shell where you can run and evaluate arbitrary python commands.\n",
    "\n",
    "### Writing your first byte of Python code###\n",
    "\n",
    "Let's write the customary `hello world` program. On the console write the following and hit ```Enter```"
   ]
  },
  {
   "cell_type": "markdown",
   "metadata": {},
   "source": [
    "# Development Tools for Python\n",
    "\n",
    "## IDEs:\n",
    "* Eclipse with PyDev plugin\n",
    "* PyCharm from JetBrains\n",
    "* Vim -- with syntastic, pylint plugins\n",
    "* Or good old notepad/notepad++/gedit etc. :)"
   ]
  }
 ],
 "metadata": {
  "kernelspec": {
   "display_name": "Python 2",
   "language": "python",
   "name": "python2"
  },
  "language_info": {
   "codemirror_mode": {
    "name": "ipython",
    "version": 2
   },
   "file_extension": ".py",
   "mimetype": "text/x-python",
   "name": "python",
   "nbconvert_exporter": "python",
   "pygments_lexer": "ipython2",
   "version": "2.7.11"
  }
 },
 "nbformat": 4,
 "nbformat_minor": 0
}
