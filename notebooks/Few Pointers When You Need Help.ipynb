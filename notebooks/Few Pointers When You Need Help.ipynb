{
 "cells": [
  {
   "cell_type": "markdown",
   "metadata": {},
   "source": [
    "## Few pointers when learning Python"
   ]
  },
  {
   "cell_type": "markdown",
   "metadata": {},
   "source": [
    "* Play around in the python/ipython shell\n",
    "* The dir function is very handy when you want to see the set of available methods on an object\n",
    "* To get help about any function or object, use the help command in the python shell.\n",
    "* If using the ipython shell or jupyter notebook, you can also get help by typing a ? next to the object name\n",
    "* Use ?? to get the complete source code of the function \n",
    "* Don't forget to properly indent your code, use an editor which can do auto indent for you.\n"
   ]
  },
  {
   "cell_type": "code",
   "execution_count": null,
   "metadata": {
    "collapsed": true
   },
   "outputs": [],
   "source": []
  }
 ],
 "metadata": {
  "kernelspec": {
   "display_name": "Python 2",
   "language": "python",
   "name": "python2"
  },
  "language_info": {
   "codemirror_mode": {
    "name": "ipython",
    "version": 2
   },
   "file_extension": ".py",
   "mimetype": "text/x-python",
   "name": "python",
   "nbconvert_exporter": "python",
   "pygments_lexer": "ipython2",
   "version": "2.7.11"
  }
 },
 "nbformat": 4,
 "nbformat_minor": 0
}
