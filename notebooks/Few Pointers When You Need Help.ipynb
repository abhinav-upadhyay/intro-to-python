{
 "cells": [
  {
   "cell_type": "markdown",
   "metadata": {},
   "source": [
    "## Few pointers when learning Python"
   ]
  },
  {
   "cell_type": "markdown",
   "metadata": {},
   "source": [
    "* Play around in the python/ipython shell\n",
    "* The dir function is very handy when you want to see the set of available methods on an object\n",
    "* To get help about any function or object, use the help command in the python shell.\n",
    "* If using the ipython shell or jupyter notebook, you can also get help by typing a ? next to the object name\n",
    "* Use ?? to get the complete source code of the function \n",
    "* Don't forget to properly indent your code, use an editor which can do auto indent for you.\n"
   ]
  },
  {
   "cell_type": "markdown",
   "metadata": {
    "collapsed": true
   },
   "source": [
    "## Next steps\n",
    "* Defining Classes\n",
    "* File handling\n",
    "* Learning about modules and packages\n",
    "* What's there in the Python standard library\n",
    "* Debugging in Python\n",
    "* Pickling\n",
    "* Accessing Databases\n",
    "* Creating and publishing your own Python module\n",
    "* Applications: web applications, data science, web scraping, network analysis\n"
   ]
  },
  {
   "cell_type": "markdown",
   "metadata": {},
   "source": [
    "## A Flavor of the Beauty of Python\n"
   ]
  },
  {
   "cell_type": "markdown",
   "metadata": {},
   "source": [
    "### Doing http requests in Python"
   ]
  },
  {
   "cell_type": "code",
   "execution_count": null,
   "metadata": {
    "collapsed": false,
    "scrolled": true
   },
   "outputs": [],
   "source": [
    "import requests\n",
    "resp = requests.get('https://api.stackexchange.com/2.2/questions?order=desc&sort=activity&site=stackoverflow')\n",
    "print resp.status_code\n",
    "print resp.content"
   ]
  },
  {
   "cell_type": "markdown",
   "metadata": {},
   "source": [
    "## File handling in Python"
   ]
  },
  {
   "cell_type": "code",
   "execution_count": null,
   "metadata": {
    "collapsed": false
   },
   "outputs": [],
   "source": [
    "with open('/home/abhinav/apropos.c.diff', 'r') as f:\n",
    "    for line in f:\n",
    "        print line\n",
    "    "
   ]
  },
  {
   "cell_type": "code",
   "execution_count": null,
   "metadata": {
    "collapsed": true
   },
   "outputs": [],
   "source": []
  }
 ],
 "metadata": {
  "kernelspec": {
   "display_name": "Python 2",
   "language": "python",
   "name": "python2"
  },
  "language_info": {
   "codemirror_mode": {
    "name": "ipython",
    "version": 2
   },
   "file_extension": ".py",
   "mimetype": "text/x-python",
   "name": "python",
   "nbconvert_exporter": "python",
   "pygments_lexer": "ipython2",
   "version": "2.7.11"
  }
 },
 "nbformat": 4,
 "nbformat_minor": 0
}
