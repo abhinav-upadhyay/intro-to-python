{
 "metadata": {
  "name": ""
 },
 "nbformat": 3,
 "nbformat_minor": 0,
 "worksheets": [
  {
   "cells": [
    {
     "cell_type": "markdown",
     "metadata": {},
     "source": [
      "#What is Python?#\n",
      "\n",
      "[Python](http://python.org) is a high level, dynamically typed and object oriented language. It was invented in 1989 by [Guido van Rossum](http://en.wikipedia.org/wiki/Guido_van_Rossum)"
     ]
    },
    {
     "cell_type": "markdown",
     "metadata": {},
     "source": [
      "##Features:##\n",
      "* Object Oriented\n",
      "* Dynamically Typed\n",
      "* Interactive\n",
      "* Interpreted and byte compiled\n",
      "* Batteries included"
     ]
    },
    {
     "cell_type": "markdown",
     "metadata": {},
     "source": [
      "##Versions of Python##\n",
      "* Python 2.7.5 _(Last supported release for the 2.x release of Python)_\n",
      "* Python 3.3\n",
      "\n",
      "This workshop covers Python 2.7. There are minor syntax changes from Python 2.x to 3.x, which you can learn in a day once you know the basics of the language."
     ]
    },
    {
     "cell_type": "markdown",
     "metadata": {},
     "source": [
      "##Setup##\n",
      "\n",
      "###Installing Python###\n",
      "\n",
      "* ####Linux####\n",
      "    - Most of the popular Linux distros come with Python pre-installed.\n",
      "    - Try running\n",
      "    ```python --version```\n",
      "    at the terminal and make sure the output is `python 2.7.4` or similar.\n",
      "    - If you don't have python installed on your system, download the tar ball from [here](http://www.python.org/ftp/python/2.7.5/Python-2.7.5.tgz) and run following commands:\n",
      "        - ```tar -xvzf Python-2.7.5.tgz```\n",
      "        - ``` cd Python-2.7.5```\n",
      "        - ```./configure```\n",
      "        - ```make```\n",
      "        - ```sudo make install```\n",
      "\n",
      "* ####Windows####\n",
      "    - Download the apropriate installer for windows from [here](http://www.python.org/download/releases/2.7.5/) and run it.\n",
      "\n",
      "###Installing 3rd Party Python Packages###\n",
      "\n",
      "We first need to install ```pip``` which is the preferred tool for installing 3rd party Python packages.\n",
      "\n",
      "* ####Installing pip on Linux####\n",
      "    - On Debian/Ubuntu run: ```sudo apt-get install python-pip```\n",
      "    - On Fedora: ```sudo yum install python-pip```\n",
      "    - For other distros you may try the following: \n",
      "\n",
      "    ```\n",
      "    curl -O http://python-distribute.org/distribute_setup.py\n",
      "    python distribute_setup.py\n",
      "    curl -O https://raw.github.com/pypa/pip/master/contrib/get-pip.py\n",
      "    python get-pip.py\n",
      "    ```\n",
      "\n",
      "* ####Installing pip on Windows####\n",
      "    - Follow the instructions given [here](http://stackoverflow.com/a/12476379/348637)\n",
      "\n",
      "###Installing IPython###\n",
      "\n",
      "We will be using IPython Notebooks during the workshops and to follow along you should have it installed.\n",
      "\n",
      "To install IPython on your system, run the following command:\n",
      "\n",
      "```pip install ipython[all]```"
     ]
    },
    {
     "cell_type": "markdown",
     "metadata": {},
     "source": [
      "##Starting Python Shell##\n",
      "\n",
      "* ###Linux/Mac OS X###\n",
      "    - Open a terminal and run ```python```\n",
      "\n",
      "* ###Windows###\n",
      "    - Open cmd and run ```python.exe```\n",
      "\n",
      "Running the above command will open up the interactive python shell where you can run and evaluate arbitrary python commands.\n",
      "\n",
      "###Writing your first byte of Python code###\n",
      "\n",
      "Let's write the customary `hello world` program. On the console write the following and hit ```Enter```"
     ]
    },
    {
     "cell_type": "code",
     "collapsed": false,
     "input": [
      "print \"hello, world!\""
     ],
     "language": "python",
     "metadata": {},
     "outputs": [
      {
       "output_type": "stream",
       "stream": "stdout",
       "text": [
        "hello, world!\n"
       ]
      }
     ],
     "prompt_number": 4
    },
    {
     "cell_type": "markdown",
     "metadata": {},
     "source": [
      "Yaay! That's it, this is how you do hello world in Python.\n",
      "Here, ```print``` is a built-in python statement for writing on standard output. "
     ]
    }
   ],
   "metadata": {}
  }
 ]
}